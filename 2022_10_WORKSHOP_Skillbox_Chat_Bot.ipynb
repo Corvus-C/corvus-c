{
  "nbformat": 4,
  "nbformat_minor": 0,
  "metadata": {
    "colab": {
      "provenance": [],
      "collapsed_sections": [
        "ppsIrKbyJDTJ",
        "mW1tlQcAJRmA",
        "tysEo2EaLV9V",
        "LTA2IxBGQfp7",
        "hSSID1qhTRst",
        "pqqsdYVxRC4w",
        "-mAZMC9gCvG5",
        "MMr2mDwFTVeK",
        "fVoSOvkNcRd3",
        "AoA3z8ZJdFLs",
        "dh3yacGNdymL",
        "Gswkj0nLeAle"
      ],
      "include_colab_link": true
    },
    "kernelspec": {
      "name": "python3",
      "display_name": "Python 3"
    },
    "language_info": {
      "name": "python"
    }
  },
  "cells": [
    {
      "cell_type": "markdown",
      "metadata": {
        "id": "view-in-github",
        "colab_type": "text"
      },
      "source": [
        "<a href=\"https://colab.research.google.com/github/Corvus-C/corvus-c/blob/master/2022_10_WORKSHOP_Skillbox_Chat_Bot.ipynb\" target=\"_parent\"><img src=\"https://colab.research.google.com/assets/colab-badge.svg\" alt=\"Open In Colab\"/></a>"
      ]
    },
    {
      "cell_type": "markdown",
      "source": [
        "# Чем мы будем заниматься на интенсиве?"
      ],
      "metadata": {
        "id": "6dLgQDxbHpSU"
      }
    },
    {
      "cell_type": "markdown",
      "source": [
        "**День 1:** Знакомимся с Python и архитектурой умного чат-бота\n",
        "\n",
        "https://live.skillbox.ru/webinars/code/znakomimsya-s-python-i-arkhitekturoi-umnogo-chat-bota171022/\n",
        "*   Что такое NLU и как компьютер понимает естественную речь.\n",
        "*   Архитектура «умных» чат-ботов.\n",
        "*   Начало работы с Python.\n",
        "*   Типы и структуры данных Python. Циклы и функции.\n",
        "\n",
        "**День 2:** Учим бота на Python понимать текст \n",
        "\n",
        "https://live.skillbox.ru/webinars/code/uchim-bota-na-python-ponimat-tekst181022/\n",
        "*   Подготовка дата-сета.\n",
        "*   Алгоритмы сравнения текстов.\n",
        "*   Векторизация.\n",
        "*   Обучение машинной модели.\n",
        "*   Измерение качества классификатора и интеграция в чат-бота.\n",
        "\n",
        "**День 3:** Искусственный интеллект на Python: подводим итоги\n",
        "\n",
        "https://live.skillbox.ru/webinars/code/iskusstvennyi-intellekt-na-python-podvodim-itogi191022/\n",
        "*   Создание Telegram-бота через @BotFather.\n",
        "*   Запуск и подключение Python-приложения.\n",
        "\n",
        "\n",
        "\n",
        "<img src='https://drive.google.com/uc?export=view&id=1jh8IXsRZMwODB7Yk_ZH7pR1laJaQlaly' height=300>"
      ],
      "metadata": {
        "id": "JzOJzJn7IUbh"
      }
    },
    {
      "cell_type": "markdown",
      "source": [
        "# День 1"
      ],
      "metadata": {
        "id": "ppsIrKbyJDTJ"
      }
    },
    {
      "cell_type": "markdown",
      "source": [
        "## ВЕРСИЯ 1: Простейший Чат-бот\n",
        "`{Вопрос на входе}` => `{Алгоритм ответа}` => `{Ответ на выходе}`\n",
        "\n",
        "---\n",
        "Простейший алгоритм — это поиск по базе известных вопросов и ответов.\n"
      ],
      "metadata": {
        "id": "mW1tlQcAJRmA"
      }
    },
    {
      "cell_type": "code",
      "source": [
        "import random"
      ],
      "metadata": {
        "id": "jHwSOC-8InIo"
      },
      "execution_count": null,
      "outputs": []
    },
    {
      "cell_type": "code",
      "execution_count": null,
      "metadata": {
        "id": "ePQvZ6EHH75B",
        "colab": {
          "base_uri": "https://localhost:8080/"
        },
        "outputId": "4f1c6aa5-0e83-4df1-e1cb-a3cb0347a40d"
      },
      "outputs": [
        {
          "name": "stdout",
          "output_type": "stream",
          "text": [
            "hi!\n"
          ]
        }
      ],
      "source": [
        "text = input()\n",
        "\n",
        "if text in [\"Привет\", \"Как дела?\", \"Добрый день!\", \"Приветствую\"]:\n",
        "    print(random.choice([\"Здравствуйте\", \"Hello!\"]))\n",
        "\n",
        "# input = ввод данных от пользователя\n",
        "# random.choice = выбор случайного элемента из списка\n",
        "# print = вывод на экран"
      ]
    },
    {
      "cell_type": "markdown",
      "source": [
        "### Алгоритм ответа\n",
        "1.   Если вопрос это что-то вроде \"*Привет*\" или \"*Хеллоу*\"\n",
        "2.   То ответить случайной фразой вроде \"**Йоу**\", \"**Приветики**\" или \"**Здрасте**\""
      ],
      "metadata": {
        "id": "tysEo2EaLV9V"
      }
    },
    {
      "cell_type": "markdown",
      "source": [
        "Сложность — в том чтобы сравнить **Текст Пользователя** и текст в программе."
      ],
      "metadata": {
        "id": "26m8fK1GN4m3"
      }
    },
    {
      "cell_type": "code",
      "source": [
        "import re\n",
        "\n",
        "def clean_up(text):\n",
        "    # преобразуем слово к нижнему регистру\n",
        "    # описываем текстовый шаблон для удаления: \"все, что не является буквой \\w или пробелом \\s\"\n",
        "    # заменяем в исходном тексте то, что соответствует шаблону, на пустой текст (удаляем)\n",
        "    # возвращаем очищенный текст\n",
        "    text = text.lower()\n",
        "    punctuation_re = r\"[^\\w\\s]\"\n",
        "    text = re.sub(punctuation_re, \"\", text)\n",
        "    return text\n",
        "\n",
        "def text_match(user_text, example):\n",
        "    # допишем функцию так, чтобы все примеры ниже работали\n",
        "    user_text = clean_up(user_text)\n",
        "    example = clean_up(example)\n",
        "    if example in user_text:\n",
        "        return True\n",
        "    # A in B - проверяет, что A содержится в B в качестве подстроки\n",
        "    return user_text == example"
      ],
      "metadata": {
        "id": "v68CYBmmMwwu"
      },
      "execution_count": null,
      "outputs": []
    },
    {
      "cell_type": "code",
      "source": [
        "# Тексты совпадают\n",
        "text_match(\"Привет\", \"Привет\")  "
      ],
      "metadata": {
        "id": "Y_v5venhNDey",
        "colab": {
          "base_uri": "https://localhost:8080/"
        },
        "outputId": "26fc91a9-3637-45a8-aa0c-77750934d6e8"
      },
      "execution_count": null,
      "outputs": [
        {
          "output_type": "execute_result",
          "data": {
            "text/plain": [
              "True"
            ]
          },
          "metadata": {},
          "execution_count": 27
        }
      ]
    },
    {
      "cell_type": "code",
      "source": [
        "# Разный регистр (ToDo: lower)\n",
        "text_match(\"ПРиВет\", \"Привет\")"
      ],
      "metadata": {
        "id": "mCkXZGN7NCxm",
        "colab": {
          "base_uri": "https://localhost:8080/"
        },
        "outputId": "cc99208c-e141-4a67-9866-0ccb580315b6"
      },
      "execution_count": null,
      "outputs": [
        {
          "output_type": "execute_result",
          "data": {
            "text/plain": [
              "True"
            ]
          },
          "metadata": {},
          "execution_count": 28
        }
      ]
    },
    {
      "cell_type": "code",
      "source": [
        "# Лишние символы (ToDo: regular expressions)\n",
        "text_match(\"Привет!!!\", \"Привет\")  "
      ],
      "metadata": {
        "id": "XyYl1qxJOWfE",
        "colab": {
          "base_uri": "https://localhost:8080/"
        },
        "outputId": "18f31c0a-6557-462e-f772-1a7008ecc598"
      },
      "execution_count": null,
      "outputs": [
        {
          "output_type": "execute_result",
          "data": {
            "text/plain": [
              "True"
            ]
          },
          "metadata": {},
          "execution_count": 29
        }
      ]
    },
    {
      "cell_type": "code",
      "source": [
        "# Лишние слова (ToDo: in)\n",
        "text_match(\"Привет, как дела\", \"Привет\")  "
      ],
      "metadata": {
        "id": "ElasFTAKOW8g",
        "colab": {
          "base_uri": "https://localhost:8080/"
        },
        "outputId": "f6d63ba1-c62e-46c8-ade2-e8ba46acaa5a"
      },
      "execution_count": null,
      "outputs": [
        {
          "output_type": "execute_result",
          "data": {
            "text/plain": [
              "True"
            ]
          },
          "metadata": {},
          "execution_count": 30
        }
      ]
    },
    {
      "cell_type": "code",
      "source": [
        "# Опечатки (ToDo: levenstein)\n",
        "text_match(\"Превет\", \"Привет\")"
      ],
      "metadata": {
        "id": "d9gU6QhvOY17",
        "colab": {
          "base_uri": "https://localhost:8080/"
        },
        "outputId": "8463501f-eb04-4a60-a121-2aa7db5f9c87"
      },
      "execution_count": null,
      "outputs": [
        {
          "output_type": "execute_result",
          "data": {
            "text/plain": [
              "False"
            ]
          },
          "metadata": {},
          "execution_count": 31
        }
      ]
    },
    {
      "cell_type": "markdown",
      "source": [
        "## ВЕРСИЯ 2: Определение намерения (intent) пользователя\n"
      ],
      "metadata": {
        "id": "LTA2IxBGQfp7"
      }
    },
    {
      "cell_type": "code",
      "source": [
        "intents = {\n",
        "    'hello': {\n",
        "        'examples': ['Хелло', \"Привет\", \"Здравствуйте\"],\n",
        "        'responses': ['Добрый день!', \"Как дела?\", \"Как настроение?\"]\n",
        "    },\n",
        "    'weather': {\n",
        "        'examples': ['Какая погода?', 'Что за окном', \"Во что одеваться?\"],\n",
        "        'responses': ['Погода отличная!', \"У природы нет плохой погоды!\"],\n",
        "    },\n",
        "    'undefined': {\n",
        "        'examples': [],\n",
        "        'responses': ['Извините, я еще не знаю таких слов(', \"Давайте поговорим о чем-то другом!\"],\n",
        "    },\n",
        "    'exit': {\n",
        "        'examples': ['Выход', 'Пока', 'До свидания'],\n",
        "        'responses': [\"До свидания!\", \"До скорого!\", \"Пока-пока!\"],\n",
        "    }\n",
        "}\n"
      ],
      "metadata": {
        "id": "jf5VCtOxPfDI"
      },
      "execution_count": null,
      "outputs": []
    },
    {
      "cell_type": "code",
      "source": [
        "# Определить намерение по тексту\n",
        "# \"Что за окном\" => \"weather\"\n",
        "def get_intent(text):\n",
        "    # Проверить все существующие intent'ы\n",
        "    # Какой-нибудь один будет иметь example похожий на text\n",
        "    # Проверить все examples\n",
        "    pass\n",
        "\n",
        "# \"hello\" => \"Добрый день!\"\n",
        "# Берет случайный response для данного intent'а\n",
        "def get_response(intent):\n",
        "    pass"
      ],
      "metadata": {
        "id": "185AmFXsRCiY"
      },
      "execution_count": null,
      "outputs": []
    },
    {
      "cell_type": "code",
      "source": [
        "def bot(text):\n",
        "    pass"
      ],
      "metadata": {
        "id": "bTsDfAPBfqs3"
      },
      "execution_count": null,
      "outputs": []
    },
    {
      "cell_type": "code",
      "source": [
        "text = 'привет'\n",
        "while ...:\n",
        "    text = input('< ')\n",
        "    print('>', bot(text))"
      ],
      "metadata": {
        "id": "Wkda0ddofzY1"
      },
      "execution_count": null,
      "outputs": []
    },
    {
      "cell_type": "markdown",
      "source": [
        "# День 2\n"
      ],
      "metadata": {
        "id": "hSSID1qhTRst"
      }
    },
    {
      "cell_type": "markdown",
      "source": [
        "## ВЕРСИЯ 3: Классификация текстов ML-моделью\n"
      ],
      "metadata": {
        "id": "pqqsdYVxRC4w"
      }
    },
    {
      "cell_type": "markdown",
      "source": [
        "### Шаг 1: собираем данные, на которых будет учиться модель"
      ],
      "metadata": {
        "id": "-mAZMC9gCvG5"
      }
    },
    {
      "cell_type": "markdown",
      "source": [
        "Задача: Научить Модель опеределять интент по тексту пользователя\n",
        "\n",
        "**Классификация текстов**\n",
        "\n",
        "\n",
        "Фраза на вход => Модель предсказывает интент фразы\n",
        "\n",
        "Входные данные (Фразы, X)\n",
        "Выходные данные (Интенты, y)\n",
        "\n",
        "Модель обучится на наших примерах и сможет предсказывать интенты по фразе."
      ],
      "metadata": {
        "id": "VLQd37nO3jhd"
      }
    },
    {
      "cell_type": "code",
      "source": [
        "# Скачаем файл с большим количеством примеров для обучения\n",
        "import os\n",
        "import urllib.request\n",
        "\n",
        "url = \"https://drive.google.com/uc?export=view&id=1u4sNekGHaDzgkOVzCOAbyWpFTEMfu95Z\"\n",
        "filename = \"intents_dataset.json\"\n",
        "urllib.request.urlretrieve(url, filename)"
      ],
      "metadata": {
        "id": "IekZ2-zqRHKH"
      },
      "execution_count": null,
      "outputs": []
    },
    {
      "cell_type": "code",
      "source": [
        "# Считываем файл в словарь\n",
        "import json\n"
      ],
      "metadata": {
        "id": "7GJtHvYexRBu"
      },
      "execution_count": null,
      "outputs": []
    },
    {
      "cell_type": "markdown",
      "source": [
        "Составляем 2 массива:\n",
        "* **X** - входные фразы (то, что модель будет получать от пользователя)\n",
        "* **y** - интенты (то, что модель будет учиться прогнозировать)"
      ],
      "metadata": {
        "id": "x7LOaA445sNF"
      }
    },
    {
      "cell_type": "markdown",
      "source": [
        "<img src='https://drive.google.com/uc?export=view&id=1u3wiw_dSsYbEyGPfu3pj_mMHMnVVINS6' height=450 border='1' alt=''>"
      ],
      "metadata": {
        "id": "ydbBfFW-7Fn1"
      }
    },
    {
      "cell_type": "code",
      "source": [
        "# Пробегаем по всему словарю - берем пары ключ-значение и раскладываем по двум спискам\n",
        "# сначала берем пары name, intent из словаря\n",
        "# потом для каждого элемента в examples и responses добавляем в X элемент, \n",
        "# а в y параллельно кладем name - название корневого интента\n",
        "X = []\n",
        "y = []\n"
      ],
      "metadata": {
        "id": "Gaf5we3TxzDh"
      },
      "execution_count": null,
      "outputs": []
    },
    {
      "cell_type": "markdown",
      "source": [
        "### Шаг 2: преобразуем слова в числа"
      ],
      "metadata": {
        "id": "yghoYMy4C5b0"
      }
    },
    {
      "cell_type": "markdown",
      "source": [
        "**Векторизация** - процесс кодирования слова в набор чисел\n",
        "\n",
        "[sklearn.CountVectorizer](https://scikit-learn.org/stable/modules/generated/sklearn.feature_extraction.text.CountVectorizer.html)\n",
        "\n",
        "1. На вход подается большой набор фраз\n",
        "2. Векторайзер обучается - запоминает, какие слова ему встретились и выделяет для каждого слова столбец в табличке\n",
        "3. Векторайзер готов работать с новыми текстами\n",
        "\n",
        "**Пример**\n",
        "```\n",
        "1. Набор текстов = {\n",
        "  \"мама мыла раму\", \n",
        "  \"Саша мыла раму\",\n",
        "}\n",
        "```\n",
        "\n",
        "```\n",
        "2. Обучение\n",
        "мама -> 1, мыла -> 2, раму -> 3, Саша -> 4\n",
        "  \"мама мыла раму\" = [1, 1, 1, 0]\n",
        "  \"Саша мыла раму\" = [0, 1, 1, 1]\n",
        "```\n",
        "```\n",
        "3. Векторизация\n",
        "\"мама мама мама\" = [3, 0, 0, 0]\n",
        "\"как мама мыла раму\" = [1, 1, 1, 0]\n",
        "\"шла Саша по шоссе\" = [0, 0, 0, 1]\n",
        "```"
      ],
      "metadata": {
        "id": "RrraXH4QC7zX"
      }
    },
    {
      "cell_type": "code",
      "source": [
        "from sklearn.feature_extraction.text import CountVectorizer\n",
        "\n",
        "vectorizer = CountVectorizer()\n",
        "vectorizer.fit([\"мама мыла раму\", \"Саша мыла раму\",]) # Обучаем векторайзер\n",
        "\n",
        "print(vectorizer.get_feature_names_out())\n",
        "print(\"мама мама мама ->\", vectorizer.transform([\"мама мама мама\"]).toarray())\n",
        "print(\"шла Саша по шоссе ->\", vectorizer.transform([\"шла Саша по шоссе\"]).toarray())"
      ],
      "metadata": {
        "id": "PlmCHQSEEPAm"
      },
      "execution_count": null,
      "outputs": []
    },
    {
      "cell_type": "markdown",
      "source": [
        "Векторизуем наши фразы X"
      ],
      "metadata": {
        "id": "zkjSjoRHGv7G"
      }
    },
    {
      "cell_type": "code",
      "source": [],
      "metadata": {
        "id": "xg7odfBDGymT"
      },
      "execution_count": null,
      "outputs": []
    },
    {
      "cell_type": "markdown",
      "source": [
        "### Шаг 3: обучаем классификатор текстов"
      ],
      "metadata": {
        "id": "hQmd5e9_J12n"
      }
    },
    {
      "cell_type": "code",
      "source": [
        "from sklearn.neural_network import MLPClassifier # Импортируем\n",
        "# Создаем модель\n",
        "# Обучаем модель"
      ],
      "metadata": {
        "id": "Ve5tV5Pdd7Qn"
      },
      "execution_count": null,
      "outputs": []
    },
    {
      "cell_type": "markdown",
      "source": [
        "### Шаг 4: оцениваем качество"
      ],
      "metadata": {
        "id": "B2Y4Ov61J5rg"
      }
    },
    {
      "cell_type": "markdown",
      "source": [
        "**Accuracy** $= \\frac{n\\ угаданных}{N\\ всего}$ — доля правильных ответов (больше - лучше)\n",
        "\n",
        "_Вопрос на внимательность: какое максимальное и минимальное значение метрики может быть, исходя из формулы выше?_"
      ],
      "metadata": {
        "id": "rO1zwbF3ePcg"
      }
    },
    {
      "cell_type": "code",
      "source": [
        "model.score(X_vec, y)  # Качество на тренировочной выборке = accuracy / больше = лучше"
      ],
      "metadata": {
        "id": "9UurWB9MJy0T"
      },
      "execution_count": null,
      "outputs": []
    },
    {
      "cell_type": "markdown",
      "source": [
        "### Шаг 5: пишем функцию для получения интента с помощью ML"
      ],
      "metadata": {
        "id": "V2qQ8d8FrxQt"
      }
    },
    {
      "cell_type": "code",
      "source": [
        "def get_intent(text):\n",
        "    pass"
      ],
      "metadata": {
        "id": "9RLxxqpSr6Kv"
      },
      "execution_count": null,
      "outputs": []
    },
    {
      "cell_type": "code",
      "source": [
        "get_intent(\"привет, как дела?\")"
      ],
      "metadata": {
        "id": "xHt2Npg-sXhV"
      },
      "execution_count": null,
      "outputs": []
    },
    {
      "cell_type": "code",
      "source": [
        "get_intent(\"давай анекдот\")"
      ],
      "metadata": {
        "id": "8_kIzeDUsnuk"
      },
      "execution_count": null,
      "outputs": []
    },
    {
      "cell_type": "code",
      "source": [
        "def get_response(intent):\n",
        "    pass"
      ],
      "metadata": {
        "id": "oGSp4Ssx_mMe"
      },
      "execution_count": null,
      "outputs": []
    },
    {
      "cell_type": "code",
      "source": [
        "def bot(text):\n",
        "    pass"
      ],
      "metadata": {
        "id": "mHZ89U82_WNz"
      },
      "execution_count": null,
      "outputs": []
    },
    {
      "cell_type": "code",
      "source": [
        "text = \"\"\n",
        "while ...:\n",
        "    text = input('< ')\n",
        "    print('>', bot(text))"
      ],
      "metadata": {
        "id": "7-cOH_q8_0z3"
      },
      "execution_count": null,
      "outputs": []
    },
    {
      "cell_type": "markdown",
      "source": [
        "# День 3"
      ],
      "metadata": {
        "id": "MMr2mDwFTVeK"
      }
    },
    {
      "cell_type": "markdown",
      "source": [
        "Бот в Телеграм\n",
        "\n",
        "Библиотека [python-telegram-bot](https://python-telegram-bot.org/)\n",
        "\n",
        "Токен получаем у телеграм-бота @BotFather"
      ],
      "metadata": {
        "id": "cDuASTUtss8Y"
      }
    },
    {
      "cell_type": "markdown",
      "source": [
        "## Устанавливаем нужные библиотеки"
      ],
      "metadata": {
        "id": "fVoSOvkNcRd3"
      }
    },
    {
      "cell_type": "code",
      "source": [
        "!pip install nest-asyncio\n",
        "!pip install python-telegram-bot --pre"
      ],
      "metadata": {
        "id": "JCquYAK5dCtn"
      },
      "execution_count": null,
      "outputs": []
    },
    {
      "cell_type": "markdown",
      "source": [
        "**Теперь нужно перезагрузить тетрадь, чтобы завершить установку пакетов**\n",
        "\n",
        "\"Среда выполнения\" -> \"Перезапустить среду выполнения\""
      ],
      "metadata": {
        "id": "_UfMAwMMfDaA"
      }
    },
    {
      "cell_type": "markdown",
      "source": [
        "## Восстанавливаем модель"
      ],
      "metadata": {
        "id": "AoA3z8ZJdFLs"
      }
    },
    {
      "cell_type": "code",
      "source": [
        "import os\n",
        "import random\n",
        "import json\n",
        "import urllib.request\n",
        "from sklearn.feature_extraction.text import CountVectorizer\n",
        "from sklearn.neural_network import MLPClassifier\n",
        "\n",
        "# Загружаем файл с диалогами для обучения модели\n",
        "url = \"https://drive.google.com/uc?export=view&id=1u4sNekGHaDzgkOVzCOAbyWpFTEMfu95Z\"\n",
        "filename = \"intents_dataset.json\"\n",
        "urllib.request.urlretrieve(url, filename)\n",
        "\n",
        "# Считываем файл в словарь\n",
        "with open(filename, 'r', encoding='UTF-8') as file:\n",
        "    data = json.load(file)\n",
        "\n",
        "# Создаем массивы фраз и интентов для обучения\n",
        "X = []\n",
        "y = []\n",
        "\n",
        "for name in data:\n",
        "    for phrase in data[name]['examples']:\n",
        "        X.append(phrase)\n",
        "        y.append(name)\n",
        "    for phrase in data[name]['responses']:\n",
        "        X.append(phrase)\n",
        "        y.append(name)\n",
        "\n",
        "# Создаем объект векторизатора\n",
        "vectorizer = CountVectorizer()\n",
        "vectorizer.fit(X)\n",
        "X_vec = vectorizer.transform(X)"
      ],
      "metadata": {
        "id": "gPExgpbBdOd8"
      },
      "execution_count": null,
      "outputs": []
    },
    {
      "cell_type": "markdown",
      "source": [
        "### Вариант 1: обучаем модель"
      ],
      "metadata": {
        "id": "-_hrlEMkdToJ"
      }
    },
    {
      "cell_type": "code",
      "source": [
        "# Создаем и обучаем модель\n",
        "model = MLPClassifier()\n",
        "model.fit(X_vec, y)"
      ],
      "metadata": {
        "id": "WVjkpjs0dfIo"
      },
      "execution_count": null,
      "outputs": []
    },
    {
      "cell_type": "markdown",
      "source": [
        "### Вариант 2: загружаем обученную модель с диска"
      ],
      "metadata": {
        "id": "NONXXsnWdi4L"
      }
    },
    {
      "cell_type": "code",
      "source": [
        "import pickle\n",
        "\n",
        "url = \"https://drive.google.com/uc?export=view&id=1G-35bA2TCf7lgeQ6bLlOdBZgIaBf40D-\"\n",
        "filename = \"model.pkl\"\n",
        "urllib.request.urlretrieve(url, filename)\n",
        "\n",
        "with open('model.pkl', 'br') as f:\n",
        "    model = pickle.load(f)"
      ],
      "metadata": {
        "id": "Eb6OICXJdqx7"
      },
      "execution_count": null,
      "outputs": []
    },
    {
      "cell_type": "markdown",
      "source": [
        "## Функции ответов"
      ],
      "metadata": {
        "id": "dh3yacGNdymL"
      }
    },
    {
      "cell_type": "code",
      "source": [
        "def get_intent(text):\n",
        "    # сначала преобразуем текст в числа\n",
        "    text_vec = vectorizer.transform([text])\n",
        "    # берем элемент номер 0 - для того, чтобы избавиться от формата \"список\", который необходим для векторизации и машинного обучения\n",
        "    return model.predict(text_vec)[0] \n",
        "\n",
        "def get_response(intent):\n",
        "    return random.choice(data[intent]['responses'])\n",
        "\n",
        "def bot(text):\n",
        "    intent = get_intent(text)\n",
        "    answer = get_response(intent)\n",
        "    return answer"
      ],
      "metadata": {
        "id": "xd3CSfbY9o3M"
      },
      "execution_count": null,
      "outputs": []
    },
    {
      "cell_type": "markdown",
      "source": [
        "## Бот в Телеграм"
      ],
      "metadata": {
        "id": "Gswkj0nLeAle"
      }
    },
    {
      "cell_type": "code",
      "source": [
        "import nest_asyncio\n",
        "nest_asyncio.apply()"
      ],
      "metadata": {
        "id": "CbSKz1-yvtSc"
      },
      "execution_count": null,
      "outputs": []
    },
    {
      "cell_type": "code",
      "source": [
        "try:\n",
        "    with open('secret_file.txt', 'r') as f:\n",
        "        TOKEN = f.read()\n",
        "except:\n",
        "    print('Это файл с токеном спикера. Вам нужно вставить свой токен в ячейку ниже')"
      ],
      "metadata": {
        "id": "uXwcP3QBtONx"
      },
      "execution_count": null,
      "outputs": []
    },
    {
      "cell_type": "code",
      "source": [
        "TOKEN = '<вставьте сюда свой токен>'"
      ],
      "metadata": {
        "id": "dLEd-e0OtnL9"
      },
      "execution_count": null,
      "outputs": []
    },
    {
      "cell_type": "code",
      "source": [
        "#  Update - информация полученная с сервера (новые сообщения, новые контакты)\n",
        "#  С сервера регулярно регулярно приходят Update'ы с новой информацией\n",
        "from telegram import Update \n",
        "from telegram.ext import ApplicationBuilder  # Инструмент для создания и настройки приложения (телеграм бот)\n",
        "from telegram.ext import MessageHandler  # Handler (обработчик) создает реакцию (функцию) на действие\n",
        "\n",
        "from  telegram.ext import filters  # фильтрует, на какие виды активности пользователя бот будет отвечать"
      ],
      "metadata": {
        "id": "Z7EK9UGixz4f"
      },
      "execution_count": null,
      "outputs": []
    },
    {
      "cell_type": "code",
      "source": [
        "# Функция для MessageHandler'а, вызывать ее при каждом сообщении боту\n",
        "async def reply(update, context) -> None:\n",
        "    # Получаем реплику пользователя (update.message.text), генерируем ответ\n",
        "    pass  # update.message.reply_text\n",
        "\n",
        "# Создаем объект приложения - связываем его с токеном\n",
        "app = ...\n",
        "\n",
        "# Создаем обработчик текстовых сообщений\n",
        "handler = ...\n",
        "\n",
        "# Добавляем обработчик в приложение\n",
        "\n",
        "\n",
        "# Запускаем приложение: бот крутится, пока крутится колесико выполнения слева ячейки)\n"
      ],
      "metadata": {
        "id": "sKaH2jQnx59S"
      },
      "execution_count": null,
      "outputs": []
    }
  ]
}